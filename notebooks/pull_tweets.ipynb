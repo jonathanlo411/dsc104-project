{
 "cells": [
  {
   "cell_type": "markdown",
   "id": "34da7ff3",
   "metadata": {},
   "source": [
    "# Pull Tweets\n",
    "Purpose is to pull tweets with location defined to add more tweet entries to analyze."
   ]
  },
  {
   "cell_type": "markdown",
   "id": "2a0a7918",
   "metadata": {},
   "source": [
    "## Overhead"
   ]
  },
  {
   "cell_type": "code",
   "execution_count": 1,
   "id": "be72b55d",
   "metadata": {},
   "outputs": [],
   "source": [
    "# Imports\n",
    "import pandas as pd\n",
    "import requests as r\n",
    "from json import load"
   ]
  },
  {
   "cell_type": "code",
   "execution_count": 6,
   "id": "ef35256d",
   "metadata": {},
   "outputs": [],
   "source": [
    "# Obtain secrets information\n",
    "secrets_data = load(open(\"secrets.json\", \"r\"))\n",
    "twitter_bearer = secrets_data['TwitterBearer']"
   ]
  },
  {
   "cell_type": "markdown",
   "id": "3a25a935",
   "metadata": {},
   "source": [
    "## Data Pull"
   ]
  },
  {
   "cell_type": "code",
   "execution_count": 7,
   "id": "2caf1b6f",
   "metadata": {},
   "outputs": [],
   "source": [
    "# Have to use v1.1 as v2 requires a Twitter\n",
    "# developer App to be attached to the project.\n",
    "# See the following link for more details:\n",
    "# https://api.twitter.com/2/problems/client-forbidden\n",
    "url = \"https://api.twitter.com/1.1/search/tweets.json\"\n",
    "search_query = \" OR \".join([\n",
    "    \"airplane\", \"airport\", \"airline\", \"airplane ticket\", \"flight\", \"airfair\", \"airlines\"\n",
    "])\n",
    "params = {\n",
    "    \"q\": search_query,\n",
    "    \"lang\": \"en\",\n",
    "    \"count\": 50\n",
    "}\n",
    "auth = {\"Authorization\": f\"Bearer {twitter_bearer}\"}\n",
    "res = r.get(url, params = params, headers = auth)"
   ]
  },
  {
   "cell_type": "code",
   "execution_count": 8,
   "id": "8f1bbee4",
   "metadata": {
    "scrolled": false
   },
   "outputs": [
    {
     "data": {
      "text/plain": [
       "{'errors': [{'message': 'You currently have access to a subset of Twitter API v2 endpoints and limited v1.1 endpoints (e.g. media post, oauth) only. If you need access to this endpoint, you may need a different access level. You can learn more here: https://developer.twitter.com/en/portal/product',\n",
       "   'code': 453}]}"
      ]
     },
     "execution_count": 8,
     "metadata": {},
     "output_type": "execute_result"
    }
   ],
   "source": [
    "res.json()"
   ]
  },
  {
   "cell_type": "code",
   "execution_count": null,
   "id": "7619aa82",
   "metadata": {},
   "outputs": [],
   "source": []
  }
 ],
 "metadata": {
  "kernelspec": {
   "display_name": "Python 3 (ipykernel)",
   "language": "python",
   "name": "python3"
  },
  "language_info": {
   "codemirror_mode": {
    "name": "ipython",
    "version": 3
   },
   "file_extension": ".py",
   "mimetype": "text/x-python",
   "name": "python",
   "nbconvert_exporter": "python",
   "pygments_lexer": "ipython3",
   "version": "3.10.9"
  }
 },
 "nbformat": 4,
 "nbformat_minor": 5
}
